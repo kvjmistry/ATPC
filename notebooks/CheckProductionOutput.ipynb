{
 "cells": [
  {
   "cell_type": "code",
   "execution_count": 1,
   "metadata": {},
   "outputs": [
    {
     "name": "stdout",
     "output_type": "stream",
     "text": [
      "Intel MKL WARNING: Support of Intel(R) Streaming SIMD Extensions 4.2 (Intel(R) SSE4.2) enabled only processors has been deprecated. Intel oneAPI Math Kernel Library 2025.0 will require Intel(R) Advanced Vector Extensions (Intel(R) AVX) instructions.\n",
      "Intel MKL WARNING: Support of Intel(R) Streaming SIMD Extensions 4.2 (Intel(R) SSE4.2) enabled only processors has been deprecated. Intel oneAPI Math Kernel Library 2025.0 will require Intel(R) Advanced Vector Extensions (Intel(R) AVX) instructions.\n"
     ]
    }
   ],
   "source": [
    "import pandas as pd\n",
    "import matplotlib.pyplot as plt\n",
    "import glob\n",
    "import numpy as np"
   ]
  },
  {
   "cell_type": "code",
   "execution_count": 7,
   "metadata": {},
   "outputs": [
    {
     "data": {
      "text/html": [
       "<div>\n",
       "<style scoped>\n",
       "    .dataframe tbody tr th:only-of-type {\n",
       "        vertical-align: middle;\n",
       "    }\n",
       "\n",
       "    .dataframe tbody tr th {\n",
       "        vertical-align: top;\n",
       "    }\n",
       "\n",
       "    .dataframe thead th {\n",
       "        text-align: right;\n",
       "    }\n",
       "</style>\n",
       "<table border=\"1\" class=\"dataframe\">\n",
       "  <thead>\n",
       "    <tr style=\"text-align: right;\">\n",
       "      <th></th>\n",
       "      <th>event_id</th>\n",
       "      <th>x</th>\n",
       "      <th>y</th>\n",
       "      <th>z</th>\n",
       "      <th>energy</th>\n",
       "    </tr>\n",
       "  </thead>\n",
       "  <tbody>\n",
       "    <tr>\n",
       "      <th>0</th>\n",
       "      <td>10</td>\n",
       "      <td>734.257507</td>\n",
       "      <td>747.286377</td>\n",
       "      <td>407.156281</td>\n",
       "      <td>0.025544</td>\n",
       "    </tr>\n",
       "    <tr>\n",
       "      <th>1</th>\n",
       "      <td>10</td>\n",
       "      <td>733.923218</td>\n",
       "      <td>745.833191</td>\n",
       "      <td>407.317596</td>\n",
       "      <td>0.008581</td>\n",
       "    </tr>\n",
       "    <tr>\n",
       "      <th>2</th>\n",
       "      <td>10</td>\n",
       "      <td>733.471558</td>\n",
       "      <td>743.224731</td>\n",
       "      <td>409.578796</td>\n",
       "      <td>0.038614</td>\n",
       "    </tr>\n",
       "    <tr>\n",
       "      <th>3</th>\n",
       "      <td>10</td>\n",
       "      <td>734.668640</td>\n",
       "      <td>748.276306</td>\n",
       "      <td>409.884552</td>\n",
       "      <td>0.051311</td>\n",
       "    </tr>\n",
       "    <tr>\n",
       "      <th>4</th>\n",
       "      <td>10</td>\n",
       "      <td>735.319824</td>\n",
       "      <td>740.909668</td>\n",
       "      <td>411.686554</td>\n",
       "      <td>0.017038</td>\n",
       "    </tr>\n",
       "    <tr>\n",
       "      <th>...</th>\n",
       "      <td>...</td>\n",
       "      <td>...</td>\n",
       "      <td>...</td>\n",
       "      <td>...</td>\n",
       "      <td>...</td>\n",
       "    </tr>\n",
       "    <tr>\n",
       "      <th>435</th>\n",
       "      <td>17</td>\n",
       "      <td>478.943909</td>\n",
       "      <td>-210.892639</td>\n",
       "      <td>1555.289307</td>\n",
       "      <td>0.033480</td>\n",
       "    </tr>\n",
       "    <tr>\n",
       "      <th>436</th>\n",
       "      <td>17</td>\n",
       "      <td>478.334869</td>\n",
       "      <td>-221.047379</td>\n",
       "      <td>1555.338013</td>\n",
       "      <td>0.049327</td>\n",
       "    </tr>\n",
       "    <tr>\n",
       "      <th>437</th>\n",
       "      <td>17</td>\n",
       "      <td>497.179535</td>\n",
       "      <td>-182.626755</td>\n",
       "      <td>1555.836060</td>\n",
       "      <td>0.015624</td>\n",
       "    </tr>\n",
       "    <tr>\n",
       "      <th>438</th>\n",
       "      <td>17</td>\n",
       "      <td>494.626099</td>\n",
       "      <td>-182.191040</td>\n",
       "      <td>1556.005737</td>\n",
       "      <td>0.082187</td>\n",
       "    </tr>\n",
       "    <tr>\n",
       "      <th>439</th>\n",
       "      <td>17</td>\n",
       "      <td>478.281677</td>\n",
       "      <td>-216.180603</td>\n",
       "      <td>1556.047607</td>\n",
       "      <td>0.037572</td>\n",
       "    </tr>\n",
       "  </tbody>\n",
       "</table>\n",
       "<p>440 rows × 5 columns</p>\n",
       "</div>"
      ],
      "text/plain": [
       "     event_id           x           y            z    energy\n",
       "0          10  734.257507  747.286377   407.156281  0.025544\n",
       "1          10  733.923218  745.833191   407.317596  0.008581\n",
       "2          10  733.471558  743.224731   409.578796  0.038614\n",
       "3          10  734.668640  748.276306   409.884552  0.051311\n",
       "4          10  735.319824  740.909668   411.686554  0.017038\n",
       "..        ...         ...         ...          ...       ...\n",
       "435        17  478.943909 -210.892639  1555.289307  0.033480\n",
       "436        17  478.334869 -221.047379  1555.338013  0.049327\n",
       "437        17  497.179535 -182.626755  1555.836060  0.015624\n",
       "438        17  494.626099 -182.191040  1556.005737  0.082187\n",
       "439        17  478.281677 -216.180603  1556.047607  0.037572\n",
       "\n",
       "[440 rows x 5 columns]"
      ]
     },
     "metadata": {},
     "output_type": "display_data"
    }
   ],
   "source": [
    "nubb = []\n",
    "\n",
    "files = sorted(glob.glob(\"/Users/mistryk2/OneDrive - UT Arlington/Code/ATPC/job/test/ATPC_0nubb_15bar_smear_0.h5\"))\n",
    "\n",
    "for f in files:\n",
    "    df = pd.read_hdf(f, \"MC/hits\")\n",
    "    nubb.append(df)\n",
    "\n",
    "nubb = pd.concat(nubb)\n",
    "display(nubb)"
   ]
  },
  {
   "cell_type": "code",
   "execution_count": 8,
   "metadata": {},
   "outputs": [
    {
     "name": "stdout",
     "output_type": "stream",
     "text": [
      "8\n"
     ]
    }
   ],
   "source": [
    "print(len(nubb.event_id.unique()))"
   ]
  },
  {
   "cell_type": "code",
   "execution_count": 9,
   "metadata": {},
   "outputs": [
    {
     "name": "stderr",
     "output_type": "stream",
     "text": [
      "/var/folders/tr/r0bv1gl52_vb7v8bswkb_z0nb301gc/T/ipykernel_90104/3126012197.py:10: UserWarning: No artists with labels found to put in legend.  Note that artists whose label start with an underscore are ignored when legend() is called with no argument.\n",
      "  plt.legend()\n"
     ]
    },
    {
     "data": {
      "text/plain": [
       "Text(0.5, 0, 'Energy [MeV]')"
      ]
     },
     "execution_count": 9,
     "metadata": {},
     "output_type": "execute_result"
    },
    {
     "data": {
      "image/png": "[encoded data removed]",
      "text/plain": [
       "<Figure size 640x480 with 1 Axes>"
      ]
     },
     "metadata": {},
     "output_type": "display_data"
    }
   ],
   "source": [
    "# Get the hit tables and plot the total energy deposited in the TPC\n",
    "# Sum the energy of the hits and bin into a histogram\n",
    "hit_tot_energy = nubb.groupby('event_id')['energy'].sum().reset_index(name='hit_tot_energy')\n",
    "\n",
    "\n",
    "plt.figure()\n",
    "\n",
    "plt.hist(hit_tot_energy.hit_tot_energy, bins=100, color=['darkorange']);\n",
    "\n",
    "plt.legend()\n",
    "plt.ylabel(\"Entries\")\n",
    "plt.xlabel(\"Energy [MeV]\")\n"
   ]
  }
 ],
 "metadata": {
  "kernelspec": {
   "display_name": "local",
   "language": "python",
   "name": "python3"
  },
  "language_info": {
   "codemirror_mode": {
    "name": "ipython",
    "version": 3
   },
   "file_extension": ".py",
   "mimetype": "text/x-python",
   "name": "python",
   "nbconvert_exporter": "python",
   "pygments_lexer": "ipython3",
   "version": "3.11.10"
  }
 },
 "nbformat": 4,
 "nbformat_minor": 2
}
